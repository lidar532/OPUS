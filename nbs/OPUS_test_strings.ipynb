{
 "cells": [
  {
   "cell_type": "code",
   "execution_count": null,
   "id": "d09ebd07-645c-481a-880a-b8d339548f8d",
   "metadata": {},
   "outputs": [],
   "source": [
    "#| default_exp OPUS_test_data"
   ]
  },
  {
   "cell_type": "code",
   "execution_count": 1,
   "id": "d9d87f7b-b477-4cc2-9513-3b407d9e04e1",
   "metadata": {},
   "outputs": [],
   "source": [
    "#| export \n",
    "opus_txt_string = '''\n",
    "FILE: SFKW1210.24O OP1716177177447\n",
    "\n",
    " 1008   NOTE: You provided a zero or negative antenna height.\n",
    " 1008   If ARP HGT = 0.0, OPUS solves for the position of your selected antenna's reference point (ARP).\n",
    " 1008   If ARP HGT < 0.0, OPUS solves for a location inside or above the antenna\n",
    " 1008\n",
    "                              NGS OPUS SOLUTION REPORT\n",
    "                              ========================\n",
    "\n",
    "All computed coordinate accuracies are listed as peak-to-peak values.\n",
    "For additional information: https://www.ngs.noaa.gov/OPUS/about.jsp#accuracy\n",
    "\n",
    "      USER: xxxxx@yyyy.com                           DATE: May 20, 2024\n",
    "RINEX FILE: sfkw121p.24o                             TIME: 03:53:37 UTC\n",
    "\n",
    "\n",
    "  SOFTWARE: page5  2008.25 master253.pl 160321      START: 2024/04/30  15:51:00\n",
    " EPHEMERIS: igs23122.eph [precise]                   STOP: 2024/04/30  22:51:00\n",
    "  NAV FILE: brdc1210.24n                         OBS USED: 14342 / 14604   :  98%\n",
    "  ANT NAME: TRMR10-2        NONE              # FIXED AMB:    65 /    68   :  96%\n",
    "ARP HEIGHT: 0.000                             OVERALL RMS: 0.014(m)\n",
    "\n",
    "\n",
    " REF FRAME: NAD_83(2011)(EPOCH:2010.0000)              ITRF2014 (EPOCH:2024.3301)\n",
    "\n",
    "         X:     -2475273.328(m)   0.019(m)          -2475274.384(m)   0.019(m)\n",
    "         Y:     -4509243.734(m)   0.013(m)          -4509242.286(m)   0.013(m)\n",
    "         Z:      3760194.885(m)   0.015(m)           3760194.828(m)   0.015(m)\n",
    "\n",
    "       LAT:   36 21  0.18896      0.022(m)        36 21  0.20210      0.022(m)\n",
    "     E LON:  241 14 10.16711      0.012(m)       241 14 10.10206      0.012(m)\n",
    "     W LON:  118 45 49.83289      0.012(m)       118 45 49.89794      0.012(m)\n",
    "    EL HGT:         1094.647(m)   0.012(m)              1094.000(m)   0.012(m)\n",
    " ORTHO HGT:         1122.958(m)   0.068(m) [NAVD88 (Computed using GEOID18)]\n",
    "\n",
    "                        UTM COORDINATES    STATE PLANE COORDINATES\n",
    "                         UTM (Zone 11)         SPC (0404 CA 4)\n",
    "Northing (Y) [meters]     4024219.772           612842.492\n",
    "Easting (X)  [meters]      341727.091          2021197.302\n",
    "Convergence  [degrees]    -1.04567778           0.14088889\n",
    "Point Scale                0.99990865           0.99995228\n",
    "Combined Factor            0.99973690           0.99978052\n",
    "\n",
    "US NATIONAL GRID DESIGNATOR: 11SLA4172724220(NAD 83)\n",
    "\n",
    "\n",
    "                              BASE STATIONS USED\n",
    "PID       DESIGNATION                        LATITUDE    LONGITUDE DISTANCE(m)\n",
    "DM6188 P572 SHADEQUARTCS2006 CORS GRP      N363507.843 W1185716.494   31229.8\n",
    "DN7424 P567 RIOBRAVO_CS2005 CORS GRP       N352515.393 W1184512.826  103109.5\n",
    "DK6413 P467 ALABAMAHILCS2006 CORS GRP      N363412.712 W1180526.193   65116.5\n",
    "\n",
    "                 NEAREST NGS PUBLISHED CONTROL POINT\n",
    "GT1835      DENNISON                       N361906.411 W1184447.601    3835.1\n",
    "\n",
    "This position and the above vector components were computed without any\n",
    "knowledge by the National Geodetic Survey regarding the equipment or\n",
    "field operating procedures used.\n",
    "'''"
   ]
  }
 ],
 "metadata": {
  "kernelspec": {
   "display_name": "Python 3 (ipykernel)",
   "language": "python",
   "name": "python3"
  },
  "language_info": {
   "codemirror_mode": {
    "name": "ipython",
    "version": 3
   },
   "file_extension": ".py",
   "mimetype": "text/x-python",
   "name": "python",
   "nbconvert_exporter": "python",
   "pygments_lexer": "ipython3",
   "version": "3.11.7"
  }
 },
 "nbformat": 4,
 "nbformat_minor": 5
}
