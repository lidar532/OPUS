{
 "cells": [
  {
   "cell_type": "code",
   "execution_count": null,
   "metadata": {},
   "outputs": [],
   "source": [
    "#| hide\n",
    "from OPUS.core import *"
   ]
  },
  {
   "cell_type": "markdown",
   "metadata": {},
   "source": [
    "# OPUS\n",
    "\n",
    "> A Python library for reading and parsing [NOAA OPUS reports.](https://www.ngs.noaa.gov/OPUS/index.jsp)"
   ]
  },
  {
   "cell_type": "markdown",
   "metadata": {},
   "source": [
    "This function extracts most of the information from a NOAA OPUS report, or Extended report. NOAA's [OPUS ( Online Positioning User Service)](https://www.ngs.noaa.gov/OPUS/view.jsp) provides free access to high-accuracy National Spatial Reference System (NRCS) coordinates.  To use OPUS\n",
    "upload a RINEX data file collected with a survey grade GNSS to OPUS and it will compute the precise position for you. The OPUS report will \n",
    "will be emailed to you within a few minutes.  Once you receive the OPUS report, paste the contents to a file.  Once you have saved the report to\n",
    "a file, you can use decode_OPUS() to easily extract any of the data to your Python program.  decode_OPUS() can read directly from an OPUS file\n",
    "or a string containing the contents of an OPUS file."
   ]
  },
  {
   "cell_type": "markdown",
   "metadata": {},
   "source": [
    "## Install"
   ]
  },
  {
   "cell_type": "markdown",
   "metadata": {},
   "source": [
    "```sh\n",
    "pip install OPUS\n",
    "```"
   ]
  },
  {
   "cell_type": "markdown",
   "metadata": {},
   "source": [
    "## Dev Install\n",
    "\n",
    "When working on the `decode_OPUS()` function, use the `Dev Install`.\n",
    "``` sh\n",
    "pip -e install OPUS\n",
    "```"
   ]
  },
  {
   "cell_type": "markdown",
   "metadata": {},
   "source": [
    "## Simple use"
   ]
  },
  {
   "cell_type": "markdown",
   "metadata": {},
   "source": [
    "Using decode_OPUS() is easy. Simply install and then import OPUS."
   ]
  },
  {
   "cell_type": "code",
   "execution_count": null,
   "metadata": {},
   "outputs": [],
   "source": [
    "import OPUS"
   ]
  },
  {
   "cell_type": "code",
   "execution_count": null,
   "metadata": {},
   "outputs": [
    {
     "data": {
      "text/plain": [
       "\"\\nFILE: SFKW1210.24O OP1716177177447\\n\\n 1008   NOTE: You provided a zero or negative antenna height.\\n 1008   If ARP HGT = 0.0, OPUS solves for the position of your selected antenna's reference point (ARP).\\n 1008   If ARP HGT < 0.0, OPUS solves for a location inside or above the antenna\\n 1008\\n                              NGS OPUS SOLUTION REPORT\\n                              ========================\\n\\nAll computed coordinate accuracies are listed as peak-to-peak values.\\nFor additional information: https://www.ngs.noaa.gov/OPUS/about.jsp#accuracy\\n\\n      USER: xxxxx@yyyy.com                           DATE: May 20, 2024\\nRINEX FILE: sfkw121p.24o                             TIME: 03:53:37 UTC\\n\\n\\n  SOFTWARE: page5  2008.25 master253.pl 160321      START: 2024/04/30  15:51:00\\n EPHEMERIS: igs23122.eph [precise]                   STOP: 2024/04/30  22:51:00\\n  NAV FILE: brdc1210.24n                         OBS USED: 14342 / 14604   :  98%\\n  ANT NAME: TRMR10-2        NONE              # FIXED AMB:    65 /    68   :  96%\\nARP HEIGHT: 0.000                             OVERALL RMS: 0.014(m)\\n\\n\\n REF FRAME: NAD_83(2011)(EPOCH:2010.0000)              ITRF2014 (EPOCH:2024.3301)\\n\\n         X:     -2475273.328(m)   0.019(m)          -2475274.384(m)   0.019(m)\\n         Y:     -4509243.734(m)   0.013(m)          -4509242.286(m)   0.013(m)\\n         Z:      3760194.885(m)   0.015(m)           3760194.828(m)   0.015(m)\\n\\n       LAT:   36 21  0.18896      0.022(m)        36 21  0.20210      0.022(m)\\n     E LON:  241 14 10.16711      0.012(m)       241 14 10.10206      0.012(m)\\n     W LON:  118 45 49.83289      0.012(m)       118 45 49.89794      0.012(m)\\n    EL HGT:         1094.647(m)   0.012(m)              1094.000(m)   0.012(m)\\n ORTHO HGT:         1122.958(m)   0.068(m) [NAVD88 (Computed using GEOID18)]\\n\\n                        UTM COORDINATES    STATE PLANE COORDINATES\\n                         UTM (Zone 11)         SPC (0404 CA 4)\\nNorthing (Y) [meters]     4024219.772           612842.492\\nEasting (X)  [meters]      341727.091          2021197.302\\nConvergence  [degrees]    -1.04567778           0.14088889\\nPoint Scale                0.99990865           0.99995228\\nCombined Factor            0.99973690           0.99978052\\n\\nUS NATIONAL GRID DESIGNATOR: 11SLA4172724220(NAD 83)\\n\\n\\n                              BASE STATIONS USED\\nPID       DESIGNATION                        LATITUDE    LONGITUDE DISTANCE(m)\\nDM6188 P572 SHADEQUARTCS2006 CORS GRP      N363507.843 W1185716.494   31229.8\\nDN7424 P567 RIOBRAVO_CS2005 CORS GRP       N352515.393 W1184512.826  103109.5\\nDK6413 P467 ALABAMAHILCS2006 CORS GRP      N363412.712 W1180526.193   65116.5\\n\\n                 NEAREST NGS PUBLISHED CONTROL POINT\\nGT1835      DENNISON                       N361906.411 W1184447.601    3835.1\\n\\nThis position and the above vector components were computed without any\\nknowledge by the National Geodetic Survey regarding the equipment or\\nfield operating procedures used.\\n\""
      ]
     },
     "execution_count": null,
     "metadata": {},
     "output_type": "execute_result"
    }
   ],
   "source": [
    "from OPUS import OPUS_test_data\n",
    "OPUS_test_data.opus_txt_string"
   ]
  },
  {
   "cell_type": "markdown",
   "metadata": {},
   "source": [
    "To use decode_OPUS(), simply call it with the filename of an OPUS file and it will return an object containing \n",
    "most of the data extracted from the OPUS file."
   ]
  },
  {
   "cell_type": "code",
   "execution_count": null,
   "metadata": {},
   "outputs": [],
   "source": [
    "opus = OPUS.decode_OPUS( opus_file = '../test_data/OPUS-california.txt' )"
   ]
  },
  {
   "cell_type": "markdown",
   "metadata": {},
   "source": [
    "Print the NAD83 latitude, longitude, ellipsoidal and orthometric heights and the difference in heights."
   ]
  },
  {
   "cell_type": "code",
   "execution_count": null,
   "metadata": {},
   "outputs": [
    {
     "name": "stdout",
     "output_type": "stream",
     "text": [
      "                                                      Elevations (m)   Elevation Dif (m)\n",
      "    OPUS File    Latitude (deg)   Longitude (deg) Ellipsodal   NAVD88 Ellipsoidal-NAVD88\n",
      " sfkw121p.24o 36.35005248888889 -118.76384246944444 1094.647 1122.958 28.31100000000015\n"
     ]
    }
   ],
   "source": [
    "print(\n",
    "  \"                                                      Elevations (m)   Elevation Dif (m)\\n\",\n",
    "  \"   OPUS File    Latitude (deg)   Longitude (deg) Ellipsodal   NAVD88 Ellipsoidal-NAVD88\\n\",\n",
    "  opus.rinex_file,\n",
    "  opus.nad83.lat, \n",
    "  opus.nad83.lon, \n",
    "  opus.nad83.el_hgt,\n",
    "  opus.nad83.navd88_hgt,\n",
    "  opus.nad83.navd88_hgt - opus.nad83.el_hgt\n",
    ")"
   ]
  },
  {
   "cell_type": "markdown",
   "metadata": {},
   "source": [
    "Print the WGS84/ITRF latitude, longitude, ellipsoidal, orthometric and the difference in heights."
   ]
  },
  {
   "cell_type": "code",
   "execution_count": null,
   "metadata": {},
   "outputs": [
    {
     "name": "stdout",
     "output_type": "stream",
     "text": [
      "  WGS84 / ITRF                                 Ellipsodal Elevations (m) Elevation Dif (m)\n",
      "    OPUS File    Latitude (deg)     Longitude (deg)  WGS84   NAD83  Ellipsoidal-NAVD88\n",
      " sfkw121p.24o 36.35005613888889 -118.76386053888889 1094.0 1094.647 0.6469999999999345\n"
     ]
    }
   ],
   "source": [
    "print(\n",
    "  \"  WGS84 / ITRF                                 Ellipsodal Elevations (m) Elevation Dif (m)\\n\",\n",
    "  \"   OPUS File    Latitude (deg)     Longitude (deg)  WGS84   NAD83  Ellipsoidal-NAVD88\\n\",\n",
    "  opus.rinex_file,\n",
    "  opus.itrf.lat, \n",
    "  opus.itrf.lon, \n",
    "  opus.itrf.el_hgt,\n",
    "  opus.nad83.el_hgt,\n",
    "  opus.nad83.el_hgt - opus.itrf.el_hgt\n",
    ")"
   ]
  },
  {
   "cell_type": "code",
   "execution_count": null,
   "metadata": {},
   "outputs": [],
   "source": [
    "optxt = OPUS.decode_OPUS( txt = OPUS.opus_txt_string )"
   ]
  },
  {
   "cell_type": "code",
   "execution_count": null,
   "metadata": {},
   "outputs": [
    {
     "data": {
      "text/plain": [
       "(36.35005248888889, -118.76384246944444, 1122.958)"
      ]
     },
     "execution_count": null,
     "metadata": {},
     "output_type": "execute_result"
    }
   ],
   "source": [
    "optxt.nad83.lat, optxt.nad83.lon, optxt.nad83.navd88_hgt"
   ]
  },
  {
   "cell_type": "markdown",
   "metadata": {},
   "source": [
    "### Basic OPUS data."
   ]
  },
  {
   "cell_type": "markdown",
   "metadata": {},
   "source": [
    "Returned OPUS data is returned in a class object which contains basic OPUS data and three sub-classes.\n",
    "In the cell below, we will dump and examine the elements contained in the basic OPUS class."
   ]
  },
  {
   "cell_type": "code",
   "execution_count": null,
   "metadata": {},
   "outputs": [
    {
     "name": "stdout",
     "output_type": "stream",
     "text": [
      "Key           Value\n",
      "nad83         <OPUS.decode_OPUS.decode_OPUS.<locals>.POINT object>\n",
      "itrf          <OPUS.decode_OPUS.decode_OPUS.<locals>.POINT object>\n",
      "state_plane   <OPUS.decode_OPUS.decode_OPUS.<locals>.POINT object>\n",
      "strings       <OPUS.decode_OPUS.decode_OPUS.<locals>.STRINGS object>\n",
      "title         NGS OPUS SOLUTION REPORT\n",
      "user          xxxxx@yyyy.com\n",
      "run_date      2024-05-20 00:00:00\n",
      "rinex_file    sfkw121p.24o\n",
      "run_datetime  2024-05-20 03:53:37\n",
      "software      page5  2008.25 master253.pl 160321\n",
      "start         2024-04-30 15:51:00\n",
      "ephermis      precise\n",
      "stop          2024-04-30 22:51:00\n",
      "ant_name      TRMR10-2        NONE\n",
      "arp_height    0.0\n",
      "lat_rms       0.022\n",
      "lon_rms       0.012\n",
      "el_rms        0.012\n",
      "utm_zone      11\n",
      "northing      4024219.772\n",
      "easting       341727.091\n",
      "us_grid       11SLA4172724220\n"
     ]
    }
   ],
   "source": [
    "print(\"Key           Value\")\n",
    "for k in optxt.__dict__:\n",
    "  print(f\"{k:13} {optxt.__dict__[k]}\")"
   ]
  },
  {
   "cell_type": "markdown",
   "metadata": {},
   "source": [
    "### nad83 class data."
   ]
  },
  {
   "cell_type": "markdown",
   "metadata": {},
   "source": [
    "OPUS computes coordinates in the [North American Datum of 1983](https://en.wikipedia.org/wiki/North_American_Datum#North_American_Datum_of_1983).  \n",
    "We will examine the `nad83` subclass.  The `nad83` subclass contains the ECEF x,y,z coordinates as well as\n",
    "the floating point values for latitude `lat`, longitude `lon`, and NAD83 ellipsoidal elevation `el_hgt` and the `navd88_hgt`. \n",
    "The [NAVD88](https://geodesy.noaa.gov/datums/vertical/north-american-vertical-datum-1988.shtml)\n",
    "data is only available in the US."
   ]
  },
  {
   "cell_type": "code",
   "execution_count": null,
   "metadata": {},
   "outputs": [
    {
     "name": "stdout",
     "output_type": "stream",
     "text": [
      "Key           Value\n",
      "------------------------------\n",
      "ref_frame     NAD_83(2011)(EPOCH:2010.0000)\n",
      "x             -2475273.328\n",
      "y             -4509243.734\n",
      "z             3760194.885\n",
      "lat           36.35005248888889\n",
      "lon           -118.76384246944444\n",
      "el_hgt        1094.647\n",
      "navd88_hgt    1122.958\n"
     ]
    }
   ],
   "source": [
    "print(\"Key           Value\\n------------------------------\")\n",
    "for k in optxt.nad83.__dict__:\n",
    "  print(f\"{k:13} {optxt.nad83.__dict__[k]}\")"
   ]
  },
  {
   "cell_type": "markdown",
   "metadata": {},
   "source": [
    "### ITRF class data."
   ]
  },
  {
   "cell_type": "markdown",
   "metadata": {},
   "source": [
    "In addition to the `nad83`, OPUS also reports the position in the\n",
    "[International Terresterial Reference Frame (ITRF)](https://en.wikipedia.org/wiki/International_Terrestrial_Reference_System_and_Frame) for both\n",
    "[ECEF](https://en.wikipedia.org/wiki/Earth-centered,_Earth-fixed_coordinate_system) and geodetic ellipsodal coordinates."
   ]
  },
  {
   "cell_type": "code",
   "execution_count": null,
   "metadata": {},
   "outputs": [
    {
     "name": "stdout",
     "output_type": "stream",
     "text": [
      "Key           Value\n",
      "------------------------------\n",
      "ref_frame     ITRF2014 (EPOCH:2024.3301)\n",
      "x             -2475274.384\n",
      "y             -4509242.286\n",
      "z             3760194.828\n",
      "lat           36.35005613888889\n",
      "lon           -118.76386053888889\n",
      "el_hgt        1094.0\n"
     ]
    }
   ],
   "source": [
    "print(\"Key           Value\\n------------------------------\")\n",
    "for k in optxt.itrf.__dict__:\n",
    "  print(f\"{k:13} {optxt.itrf.__dict__[k]}\")"
   ]
  },
  {
   "cell_type": "markdown",
   "metadata": {},
   "source": [
    "### State Plane class data."
   ]
  },
  {
   "cell_type": "markdown",
   "metadata": {},
   "source": [
    "State Plane data will be present when the OPUS point is in the United States."
   ]
  },
  {
   "cell_type": "code",
   "execution_count": null,
   "metadata": {},
   "outputs": [
    {
     "name": "stdout",
     "output_type": "stream",
     "text": [
      "Key           Value\n",
      "------------------------------\n",
      "id            0404 CA 4\n",
      "northing      612842.492\n",
      "easting       2021197.302\n"
     ]
    }
   ],
   "source": [
    "print(\"Key           Value\\n------------------------------\")\n",
    "for k in optxt.state_plane.__dict__:\n",
    "  print(f\"{k:13} {optxt.state_plane.__dict__[k]}\")"
   ]
  },
  {
   "cell_type": "code",
   "execution_count": null,
   "metadata": {},
   "outputs": [],
   "source": []
  },
  {
   "cell_type": "markdown",
   "metadata": {},
   "source": [
    "### OPUS reported Dates and times"
   ]
  },
  {
   "cell_type": "markdown",
   "metadata": {},
   "source": [
    " OPUS reported dates and times are converted to [python datetime](https://docs.python.org/3/library/datetime.html)\n",
    " data types to make calculations easier.  Below we will compute the occupation time from the decoded Start and Stop times in the OPUS report."
   ]
  },
  {
   "cell_type": "code",
   "execution_count": null,
   "metadata": {},
   "outputs": [
    {
     "name": "stdout",
     "output_type": "stream",
     "text": [
      "Start time: 2024-04-30 15:51:00\n",
      " Stop time: 2024-04-30 22:51:00\n",
      "The position was occupied for  7.00 hours.\n"
     ]
    }
   ],
   "source": [
    "occupation_time = (optxt.stop - optxt.start)\n",
    "occupation_time.seconds / 3600\n",
    "print(\n",
    "  f\"Start time: { optxt.start}\\n\"\n",
    "  f\" Stop time: { optxt.stop}\\n\"\n",
    "  f\"The position was occupied for {occupation_time.seconds/3600:5.2f} hours.\"\n",
    ")"
   ]
  }
 ],
 "metadata": {
  "kernelspec": {
   "display_name": "python3",
   "language": "python",
   "name": "python3"
  }
 },
 "nbformat": 4,
 "nbformat_minor": 4
}
